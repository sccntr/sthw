{
 "cells": [
  {
   "cell_type": "code",
   "execution_count": 1,
   "id": "60d1d59d",
   "metadata": {},
   "outputs": [],
   "source": [
    "import os\n",
    "import pandas as pd\n"
   ]
  },
  {
   "cell_type": "code",
   "execution_count": 3,
   "id": "2e4c1e72",
   "metadata": {},
   "outputs": [
    {
     "name": "stdout",
     "output_type": "stream",
     "text": [
      "['D_clients.csv', 'D_close_loan.csv', 'D_job.csv', 'D_last_credit.csv', 'D_loan.csv', 'D_pens.csv', 'D_salary.csv', 'D_target.csv', 'D_work.csv']\n"
     ]
    }
   ],
   "source": [
    "# Путь к папке с файлами CSV\n",
    "folder_path = r'C:\\Users\\SOCIOCENTER\\Documents\\2023-08-31-Streamlit-Homework\\data\\csv'\n",
    "\n",
    "# Получение списка файлов CSV в папке\n",
    "csv_files = [file for file in os.listdir(folder_path) if file.endswith('.csv')]\n",
    "print(csv_files)"
   ]
  },
  {
   "cell_type": "code",
   "execution_count": 13,
   "id": "658c5208",
   "metadata": {
    "scrolled": true
   },
   "outputs": [
    {
     "name": "stdout",
     "output_type": "stream",
     "text": [
      "Название датафрейма: df_clients\n",
      "          ID  AGE  GENDER            EDUCATION      MARITAL_STATUS  \\\n",
      "0  106805103   42       1              Среднее  Не состоял в браке   \n",
      "1  106809308   28       1  Среднее специальное      Состою в браке   \n",
      "2  106805867   64       0  Среднее специальное      Состою в браке   \n",
      "\n",
      "   CHILD_TOTAL  DEPENDANTS  SOCSTATUS_WORK_FL  SOCSTATUS_PENS_FL  \\\n",
      "0            1           0                  1                  0   \n",
      "1            1           1                  1                  0   \n",
      "2            2           0                  1                  1   \n",
      "\n",
      "  REG_ADDRESS_PROVINCE FACT_ADDRESS_PROVINCE POSTAL_ADDRESS_PROVINCE  \\\n",
      "0   Московская область    Московская область      Московская область   \n",
      "1    Читинская область     Читинская область       Читинская область   \n",
      "2    Иркутская область     Иркутская область       Иркутская область   \n",
      "\n",
      "   FL_PRESENCE_FL  OWN_AUTO  \n",
      "0               1         0  \n",
      "1               0         0  \n",
      "2               0         1  \n",
      "\n",
      "Название датафрейма: df_close_loan\n",
      "      ID_LOAN  CLOSED_FL\n",
      "0  1753790658          1\n",
      "1  1753790659          1\n",
      "2  1753790660          1\n",
      "\n",
      "Название датафрейма: df_job\n",
      "                GEN_INDUSTRY   GEN_TITLE                        JOB_DIR  \\\n",
      "0                   Торговля     Рабочий    Вспомогательный техперсонал   \n",
      "1                   Торговля     Рабочий  Участие в основ. деятельности   \n",
      "2  Информационные технологии  Специалист  Участие в основ. деятельности   \n",
      "\n",
      "   WORK_TIME  ID_CLIENT  \n",
      "0       18.0  106804370  \n",
      "1       97.0  106804371  \n",
      "2       84.0  106804372  \n",
      "\n",
      "Название датафрейма: df_last_credit\n",
      "    CREDIT  TERM  FST_PAYMENT  ID_CLIENT\n",
      "0   8000.0     6       8650.0  106804370\n",
      "1  21650.0     6       4000.0  106804371\n",
      "2  33126.0    12       4000.0  106804372\n",
      "\n",
      "Название датафрейма: df_loan\n",
      "      ID_LOAN  ID_CLIENT\n",
      "0  1753790658  106804370\n",
      "1  1753790659  106804371\n",
      "2  1753790660  106804372\n",
      "\n",
      "Название датафрейма: df_pens\n",
      "   ID  FLAG       COMMENT\n",
      "0   1     0     пенсионер\n",
      "1   2     1  не пенсионер\n",
      "\n",
      "Название датафрейма: df_salary\n",
      "            FAMILY_INCOME  PERSONAL_INCOME  ID_CLIENT\n",
      "0  от 20000 до 50000 руб.          20000.0  106809321\n",
      "1  от 20000 до 50000 руб.          14000.0  106815561\n",
      "2  от 10000 до 20000 руб.          15000.0  106811521\n",
      "\n",
      "Название датафрейма: df_target\n",
      "   AGREEMENT_RK  ID_CLIENT  TARGET\n",
      "0      59910150  106804370       0\n",
      "1      59910230  106804371       0\n",
      "2      59910525  106804372       0\n",
      "\n",
      "Название датафрейма: df_work\n",
      "   ID  FLAG      COMMENT\n",
      "0   1     0     работает\n",
      "1   2     1  не работает\n",
      "2   3     2  не известно\n",
      "\n"
     ]
    }
   ],
   "source": [
    "# Чтение файлов CSV и создание датафреймов\n",
    "dataframes = {}\n",
    "for file in csv_files:\n",
    "    # Получение имени файла без расширения\n",
    "    file_name = os.path.splitext(file)[0]\n",
    "    file_name = file_name.replace('D_', '')\n",
    "#     print(file_name)\n",
    " # Создание имени датафрейма с приставкой \"df_\"\n",
    "    dataframe_name = f\"df_{file_name}\"\n",
    "    # Чтение файла CSV в датафрейм\n",
    "    file_path = os.path.join(folder_path, file)\n",
    "    df_temp = pd.read_csv(file_path)\n",
    "    df_temp = df_temp.drop_duplicates()\n",
    "    dataframes[dataframe_name] = df_temp\n",
    "\n",
    "# Вывод созданных датафреймов\n",
    "for dataframe_name, dataframe in dataframes.items():\n",
    "    print(f\"Название датафрейма: {dataframe_name}\")\n",
    "    print(dataframe.head(3))\n",
    "    print()\n"
   ]
  },
  {
   "cell_type": "code",
   "execution_count": 9,
   "id": "472f43f4",
   "metadata": {},
   "outputs": [],
   "source": [
    "df_fin = pd.DataFrame()"
   ]
  },
  {
   "cell_type": "code",
   "execution_count": 22,
   "id": "395a5a58",
   "metadata": {},
   "outputs": [],
   "source": [
    "df_fin[['AGREEMENT_RK', 'ID_CLIENT', 'TARGET']] = dataframes['df_target'][['AGREEMENT_RK', 'ID_CLIENT', 'TARGET']]"
   ]
  },
  {
   "cell_type": "code",
   "execution_count": null,
   "id": "86cce910",
   "metadata": {},
   "outputs": [],
   "source": []
  },
  {
   "cell_type": "code",
   "execution_count": 26,
   "id": "64c0becd",
   "metadata": {},
   "outputs": [],
   "source": [
    "df_fin = df_fin.merge(dataframes['df_clients'], how='left', left_on='ID_CLIENT', right_on='ID')"
   ]
  },
  {
   "cell_type": "code",
   "execution_count": 31,
   "id": "02d503f4",
   "metadata": {},
   "outputs": [
    {
     "name": "stdout",
     "output_type": "stream",
     "text": [
      "Index(['AGREEMENT_RK', 'TARGET', 'ID_CLIENT', 'AGE', 'SOCSTATUS_WORK_FL',\n",
      "       'SOCSTATUS_PENS_FL', 'GENDER', 'CHILD_TOTAL', 'DEPENDANTS',\n",
      "       'FAMILY_INCOME', 'PERSONAL_INCOME'],\n",
      "      dtype='object')\n"
     ]
    }
   ],
   "source": [
    "print(df_fin.columns)"
   ]
  },
  {
   "cell_type": "code",
   "execution_count": 28,
   "id": "4b57d771",
   "metadata": {},
   "outputs": [],
   "source": [
    "df_fin = df_fin[['AGREEMENT_RK', 'TARGET', 'ID_CLIENT', 'AGE', \n",
    "       'SOCSTATUS_WORK_FL', 'SOCSTATUS_PENS_FL', 'GENDER', \n",
    "       'CHILD_TOTAL', 'DEPENDANTS']]"
   ]
  },
  {
   "cell_type": "code",
   "execution_count": 30,
   "id": "9d650172",
   "metadata": {},
   "outputs": [],
   "source": [
    "df_fin = df_fin.merge(dataframes['df_salary'], how='left', left_on='ID_CLIENT', right_on='ID_CLIENT')"
   ]
  },
  {
   "cell_type": "code",
   "execution_count": null,
   "id": "67785636",
   "metadata": {},
   "outputs": [],
   "source": [
    "ID_CLIENT"
   ]
  }
 ],
 "metadata": {
  "kernelspec": {
   "display_name": "Python 3 (ipykernel)",
   "language": "python",
   "name": "python3"
  },
  "language_info": {
   "codemirror_mode": {
    "name": "ipython",
    "version": 3
   },
   "file_extension": ".py",
   "mimetype": "text/x-python",
   "name": "python",
   "nbconvert_exporter": "python",
   "pygments_lexer": "ipython3",
   "version": "3.11.4"
  }
 },
 "nbformat": 4,
 "nbformat_minor": 5
}
