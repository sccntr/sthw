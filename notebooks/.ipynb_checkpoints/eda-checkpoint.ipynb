{
 "cells": [
  {
   "cell_type": "markdown",
   "id": "33cb79e5-9ba0-4041-ba2e-33f11041a808",
   "metadata": {},
   "source": [
    "# Задание 1\n",
    "\n",
    "Соберите всю информацию о клиентах в одну таблицу, где одна строчка соответствует полной информации об одном клиенте.\n",
    "\n",
    "*NB. Согласно структуре таблицы, \"одна строка\" -- это не \"один клиент\", а \"один займ\". Уверен, что именно это и имелось в виду, т.к. если мы предсказываем вероятность дефолта, нам нужна именно такая таблица. (ЦЖ)* "
   ]
  },
  {
   "cell_type": "code",
   "execution_count": 1,
   "id": "60d1d59d",
   "metadata": {},
   "outputs": [],
   "source": [
    "import os\n",
    "import pandas as pd"
   ]
  },
  {
   "cell_type": "code",
   "execution_count": 64,
   "id": "2e4c1e72",
   "metadata": {},
   "outputs": [
    {
     "name": "stdout",
     "output_type": "stream",
     "text": [
      "['D_clients.csv', 'D_close_loan.csv', 'D_job.csv', 'D_last_credit.csv', 'D_loan.csv', 'D_pens.csv', 'D_ready.csv', 'D_salary.csv', 'D_target.csv', 'D_work.csv']\n"
     ]
    }
   ],
   "source": [
    "# Путь к папке с файлами CSV\n",
    "\n",
    "folder_path = r'../data/'\n",
    "\n",
    "# Получение списка файлов CSV в папке\n",
    "csv_files = [file for file in os.listdir(folder_path) if file.endswith('.csv')]\n",
    "\n",
    "print(csv_files)  \n",
    "# ['D_clients.csv', 'D_close_loan.csv', 'D_job.csv', 'D_last_credit.csv', 'D_loan.csv', 'D_pens.csv', 'D_salary.csv', 'D_target.csv', 'D_work.csv']"
   ]
  },
  {
   "cell_type": "code",
   "execution_count": 65,
   "id": "658c5208",
   "metadata": {
    "scrolled": true
   },
   "outputs": [
    {
     "name": "stdout",
     "output_type": "stream",
     "text": [
      "Название датафрейма: df_clients\n",
      "          ID  AGE  GENDER            EDUCATION      MARITAL_STATUS  \\\n",
      "0  106805103   42       1              Среднее  Не состоял в браке   \n",
      "1  106809308   28       1  Среднее специальное      Состою в браке   \n",
      "2  106805867   64       0  Среднее специальное      Состою в браке   \n",
      "\n",
      "   CHILD_TOTAL  DEPENDANTS  SOCSTATUS_WORK_FL  SOCSTATUS_PENS_FL  \\\n",
      "0            1           0                  1                  0   \n",
      "1            1           1                  1                  0   \n",
      "2            2           0                  1                  1   \n",
      "\n",
      "  REG_ADDRESS_PROVINCE FACT_ADDRESS_PROVINCE POSTAL_ADDRESS_PROVINCE  \\\n",
      "0   Московская область    Московская область      Московская область   \n",
      "1    Читинская область     Читинская область       Читинская область   \n",
      "2    Иркутская область     Иркутская область       Иркутская область   \n",
      "\n",
      "   FL_PRESENCE_FL  OWN_AUTO  \n",
      "0               1         0  \n",
      "1               0         0  \n",
      "2               0         1  \n",
      "\n",
      "Название датафрейма: df_close_loan\n",
      "      ID_LOAN  CLOSED_FL\n",
      "0  1753790658          1\n",
      "1  1753790659          1\n",
      "2  1753790660          1\n",
      "\n",
      "Название датафрейма: df_job\n",
      "                GEN_INDUSTRY   GEN_TITLE                        JOB_DIR  \\\n",
      "0                   Торговля     Рабочий    Вспомогательный техперсонал   \n",
      "1                   Торговля     Рабочий  Участие в основ. деятельности   \n",
      "2  Информационные технологии  Специалист  Участие в основ. деятельности   \n",
      "\n",
      "   WORK_TIME  ID_CLIENT  \n",
      "0       18.0  106804370  \n",
      "1       97.0  106804371  \n",
      "2       84.0  106804372  \n",
      "\n",
      "Название датафрейма: df_last_credit\n",
      "    CREDIT  TERM  FST_PAYMENT  ID_CLIENT\n",
      "0   8000.0     6       8650.0  106804370\n",
      "1  21650.0     6       4000.0  106804371\n",
      "2  33126.0    12       4000.0  106804372\n",
      "\n",
      "Название датафрейма: df_loan\n",
      "      ID_LOAN  ID_CLIENT\n",
      "0  1753790658  106804370\n",
      "1  1753790659  106804371\n",
      "2  1753790660  106804372\n",
      "\n",
      "Название датафрейма: df_pens\n",
      "   ID  FLAG       COMMENT\n",
      "0   1     0     пенсионер\n",
      "1   2     1  не пенсионер\n",
      "\n",
      "Название датафрейма: df_ready\n",
      "   AGREEMENT_RK  TARGET  ID_CLIENT  AGE  SOCSTATUS_WORK_FL  SOCSTATUS_PENS_FL  \\\n",
      "0      59910150       0  106804370   49                  1                  0   \n",
      "1      59910230       0  106804371   32                  1                  0   \n",
      "2      59910525       0  106804372   52                  1                  0   \n",
      "\n",
      "   GENDER  CHILD_TOTAL  DEPENDANTS           FAMILY_INCOME  PERSONAL_INCOME  \\\n",
      "0       1            2           1  от 10000 до 20000 руб.           5000.0   \n",
      "1       1            3           3  от 10000 до 20000 руб.          12000.0   \n",
      "2       1            4           0  от 10000 до 20000 руб.           9000.0   \n",
      "\n",
      "   LOAN_NUM_TOTAL  LOAN_NUM_CLOSED  \n",
      "0               1                1  \n",
      "1               1                1  \n",
      "2               2                1  \n",
      "\n",
      "Название датафрейма: df_salary\n",
      "            FAMILY_INCOME  PERSONAL_INCOME  ID_CLIENT\n",
      "0  от 20000 до 50000 руб.          20000.0  106809321\n",
      "1  от 20000 до 50000 руб.          14000.0  106815561\n",
      "2  от 10000 до 20000 руб.          15000.0  106811521\n",
      "\n",
      "Название датафрейма: df_target\n",
      "   AGREEMENT_RK  ID_CLIENT  TARGET\n",
      "0      59910150  106804370       0\n",
      "1      59910230  106804371       0\n",
      "2      59910525  106804372       0\n",
      "\n",
      "Название датафрейма: df_work\n",
      "   ID  FLAG      COMMENT\n",
      "0   1     0     работает\n",
      "1   2     1  не работает\n",
      "2   3     2  не известно\n",
      "\n"
     ]
    }
   ],
   "source": [
    "# Чтение файлов CSV и создание датафреймов\n",
    "dataframes = {}\n",
    "for file in csv_files:\n",
    "    # Получение имени файла без расширения\n",
    "    file_name = os.path.splitext(file)[0]\n",
    "    file_name = file_name.replace('D_', '')\n",
    "#     print(file_name)\n",
    " # Создание имени датафрейма с приставкой \"df_\"\n",
    "    dataframe_name = f\"df_{file_name}\"\n",
    "    # Чтение файла CSV в датафрейм\n",
    "    file_path = os.path.join(folder_path, file)\n",
    "    df_temp = pd.read_csv(file_path)\n",
    "    df_temp = df_temp.drop_duplicates()\n",
    "    dataframes[dataframe_name] = df_temp\n",
    "\n",
    "# Вывод созданных датафреймов\n",
    "for dataframe_name, dataframe in dataframes.items():\n",
    "    print(f\"Название датафрейма: {dataframe_name}\")\n",
    "    print(dataframe.head(3))\n",
    "    print()\n"
   ]
  },
  {
   "cell_type": "code",
   "execution_count": 66,
   "id": "472f43f4",
   "metadata": {},
   "outputs": [
    {
     "name": "stdout",
     "output_type": "stream",
     "text": [
      "Index(['AGREEMENT_RK', 'ID_CLIENT', 'TARGET', 'ID', 'AGE', 'GENDER',\n",
      "       'EDUCATION', 'MARITAL_STATUS', 'CHILD_TOTAL', 'DEPENDANTS',\n",
      "       'SOCSTATUS_WORK_FL', 'SOCSTATUS_PENS_FL', 'REG_ADDRESS_PROVINCE',\n",
      "       'FACT_ADDRESS_PROVINCE', 'POSTAL_ADDRESS_PROVINCE', 'FL_PRESENCE_FL',\n",
      "       'OWN_AUTO'],\n",
      "      dtype='object')\n"
     ]
    }
   ],
   "source": [
    "# Собираем итоговый датафрейм \n",
    "df_fin = pd.DataFrame()\n",
    "df_fin[['AGREEMENT_RK', 'ID_CLIENT', 'TARGET']] = dataframes['df_target'][['AGREEMENT_RK', 'ID_CLIENT', 'TARGET']]\n",
    "df_fin = df_fin.merge(dataframes['df_clients'], how='left', left_on='ID_CLIENT', right_on='ID')\n",
    "\n",
    "print(df_fin.columns)  # посмотрим глазами \n",
    "\n",
    "# Index(['AGREEMENT_RK', 'ID_CLIENT', 'TARGET', 'ID', 'AGE', 'GENDER',\n",
    "#        'EDUCATION', 'MARITAL_STATUS', 'CHILD_TOTAL', 'DEPENDANTS',\n",
    "#        'SOCSTATUS_WORK_FL', 'SOCSTATUS_PENS_FL', 'REG_ADDRESS_PROVINCE',\n",
    "#        'FACT_ADDRESS_PROVINCE', 'POSTAL_ADDRESS_PROVINCE', 'FL_PRESENCE_FL',\n",
    "#        'OWN_AUTO'],\n",
    "#       dtype='object')\n"
   ]
  },
  {
   "cell_type": "code",
   "execution_count": 67,
   "id": "4b57d771",
   "metadata": {},
   "outputs": [
    {
     "name": "stdout",
     "output_type": "stream",
     "text": [
      "Index(['AGREEMENT_RK', 'TARGET', 'AGE', 'SOCSTATUS_WORK_FL',\n",
      "       'SOCSTATUS_PENS_FL', 'GENDER', 'CHILD_TOTAL', 'DEPENDANTS',\n",
      "       'PERSONAL_INCOME', 'LOAN_NUM_TOTAL', 'LOAN_NUM_CLOSED'],\n",
      "      dtype='object')\n"
     ]
    }
   ],
   "source": [
    "# Продолжаем сбор финального датафрейма\n",
    "df_fin = df_fin[['AGREEMENT_RK', 'TARGET', 'ID_CLIENT', 'AGE', \n",
    "       'SOCSTATUS_WORK_FL', 'SOCSTATUS_PENS_FL', 'GENDER', \n",
    "       'CHILD_TOTAL', 'DEPENDANTS']]\n",
    "df_fin = df_fin.merge(dataframes['df_salary'], how='left', left_on='ID_CLIENT', right_on='ID_CLIENT')\n",
    "\n",
    "# Промежуточный датафрейм с займами\n",
    "df_loans = pd.merge(dataframes['df_loan'], dataframes['df_close_loan'], how='left', left_on='ID_LOAN', right_on='ID_LOAN')\n",
    "\n",
    "# Второй промежуточный датафрейм: соединяем клиентов с займами\n",
    "merged_df = df_fin.merge(df_loans, how='left', left_on='ID_CLIENT', right_on='ID_CLIENT')\n",
    "# Подсчитываем общее количество займов\n",
    "merged_df['LOAN_NUM_TOTAL'] = merged_df.groupby('ID_CLIENT')['ID_LOAN'].transform('count')\n",
    "# Подсчитываем количество закрытых займов\n",
    "merged_df['LOAN_NUM_CLOSED'] = merged_df.groupby('ID_CLIENT')['CLOSED_FL'].transform('sum')\n",
    "\n",
    "# Сборка\n",
    "df_fin = df_fin.merge(merged_df[['ID_CLIENT', 'LOAN_NUM_TOTAL', 'LOAN_NUM_CLOSED']], on='ID_CLIENT')\n",
    "df_fin = df_fin[['AGREEMENT_RK', 'TARGET', 'AGE', 'SOCSTATUS_WORK_FL',\n",
    "       'SOCSTATUS_PENS_FL', 'GENDER', 'CHILD_TOTAL', 'DEPENDANTS',\n",
    "       'PERSONAL_INCOME', 'LOAN_NUM_TOTAL', 'LOAN_NUM_CLOSED']]\n",
    "print(df_fin.columns)  # посмотрим глазами \n",
    "\n",
    "# Index(['AGREEMENT_RK', 'TARGET', 'AGE', 'SOCSTATUS_WORK_FL',\n",
    "#        'SOCSTATUS_PENS_FL', 'GENDER', 'CHILD_TOTAL', 'DEPENDANTS',\n",
    "#        'PERSONAL_INCOME', 'LOAN_NUM_TOTAL', 'LOAN_NUM_CLOSED'],\n",
    "#       dtype='object')"
   ]
  },
  {
   "cell_type": "code",
   "execution_count": 68,
   "id": "bfbc9968-6e13-4180-87c0-fdb026095cd0",
   "metadata": {},
   "outputs": [],
   "source": [
    "# Сохраняем в файл \n",
    "df_fin.to_csv('../data/D_ready.csv', index=False)"
   ]
  },
  {
   "cell_type": "markdown",
   "id": "f657ef52-6a7f-423a-a5ba-98491baff58a",
   "metadata": {},
   "source": [
    "*NB. По идее, здесь надо перезагрузить тетрадку, чтобы не морочиться с удалением переменных из памяти. Не знаю, насколько это хорошая практика.* "
   ]
  },
  {
   "cell_type": "markdown",
   "id": "9799ebbe-e3c5-4a02-b359-d45b3503b792",
   "metadata": {},
   "source": [
    "## Задание 2\n",
    "\n",
    "При помощи инструмента Streamlit проведите разведочный анализ данных. В него может входить:\n",
    "\n",
    "* построение графиков распределений признаков\n",
    "* построение матрицы корреляций\n",
    "* построение графиков зависимостей целевой переменной и признаков\n",
    "* вычисление числовых характеристик распределения числовых столбцов (среднее, min, max, медиана и так далее)\n",
    "* любые другие ваши идеи приветствуются!"
   ]
  },
  {
   "cell_type": "code",
   "execution_count": 2,
   "id": "a1ac62e5-6eee-4287-b64d-4ecad0edb8e4",
   "metadata": {},
   "outputs": [
    {
     "data": {
      "text/html": [
       "<div>\n",
       "<style scoped>\n",
       "    .dataframe tbody tr th:only-of-type {\n",
       "        vertical-align: middle;\n",
       "    }\n",
       "\n",
       "    .dataframe tbody tr th {\n",
       "        vertical-align: top;\n",
       "    }\n",
       "\n",
       "    .dataframe thead th {\n",
       "        text-align: right;\n",
       "    }\n",
       "</style>\n",
       "<table border=\"1\" class=\"dataframe\">\n",
       "  <thead>\n",
       "    <tr style=\"text-align: right;\">\n",
       "      <th></th>\n",
       "      <th>AGREEMENT_RK</th>\n",
       "      <th>TARGET</th>\n",
       "      <th>AGE</th>\n",
       "      <th>SOCSTATUS_WORK_FL</th>\n",
       "      <th>SOCSTATUS_PENS_FL</th>\n",
       "      <th>GENDER</th>\n",
       "      <th>CHILD_TOTAL</th>\n",
       "      <th>DEPENDANTS</th>\n",
       "      <th>PERSONAL_INCOME</th>\n",
       "      <th>LOAN_NUM_TOTAL</th>\n",
       "      <th>LOAN_NUM_CLOSED</th>\n",
       "    </tr>\n",
       "  </thead>\n",
       "  <tbody>\n",
       "    <tr>\n",
       "      <th>0</th>\n",
       "      <td>59910150</td>\n",
       "      <td>0</td>\n",
       "      <td>49</td>\n",
       "      <td>1</td>\n",
       "      <td>0</td>\n",
       "      <td>1</td>\n",
       "      <td>2</td>\n",
       "      <td>1</td>\n",
       "      <td>5000.0</td>\n",
       "      <td>1</td>\n",
       "      <td>1</td>\n",
       "    </tr>\n",
       "    <tr>\n",
       "      <th>1</th>\n",
       "      <td>59910230</td>\n",
       "      <td>0</td>\n",
       "      <td>32</td>\n",
       "      <td>1</td>\n",
       "      <td>0</td>\n",
       "      <td>1</td>\n",
       "      <td>3</td>\n",
       "      <td>3</td>\n",
       "      <td>12000.0</td>\n",
       "      <td>1</td>\n",
       "      <td>1</td>\n",
       "    </tr>\n",
       "    <tr>\n",
       "      <th>2</th>\n",
       "      <td>59910525</td>\n",
       "      <td>0</td>\n",
       "      <td>52</td>\n",
       "      <td>1</td>\n",
       "      <td>0</td>\n",
       "      <td>1</td>\n",
       "      <td>4</td>\n",
       "      <td>0</td>\n",
       "      <td>9000.0</td>\n",
       "      <td>2</td>\n",
       "      <td>1</td>\n",
       "    </tr>\n",
       "    <tr>\n",
       "      <th>3</th>\n",
       "      <td>59910525</td>\n",
       "      <td>0</td>\n",
       "      <td>52</td>\n",
       "      <td>1</td>\n",
       "      <td>0</td>\n",
       "      <td>1</td>\n",
       "      <td>4</td>\n",
       "      <td>0</td>\n",
       "      <td>9000.0</td>\n",
       "      <td>2</td>\n",
       "      <td>1</td>\n",
       "    </tr>\n",
       "    <tr>\n",
       "      <th>4</th>\n",
       "      <td>59910803</td>\n",
       "      <td>0</td>\n",
       "      <td>39</td>\n",
       "      <td>1</td>\n",
       "      <td>0</td>\n",
       "      <td>1</td>\n",
       "      <td>1</td>\n",
       "      <td>1</td>\n",
       "      <td>25000.0</td>\n",
       "      <td>1</td>\n",
       "      <td>1</td>\n",
       "    </tr>\n",
       "  </tbody>\n",
       "</table>\n",
       "</div>"
      ],
      "text/plain": [
       "   AGREEMENT_RK  TARGET  AGE  SOCSTATUS_WORK_FL  SOCSTATUS_PENS_FL  GENDER  \\\n",
       "0      59910150       0   49                  1                  0       1   \n",
       "1      59910230       0   32                  1                  0       1   \n",
       "2      59910525       0   52                  1                  0       1   \n",
       "3      59910525       0   52                  1                  0       1   \n",
       "4      59910803       0   39                  1                  0       1   \n",
       "\n",
       "   CHILD_TOTAL  DEPENDANTS  PERSONAL_INCOME  LOAN_NUM_TOTAL  LOAN_NUM_CLOSED  \n",
       "0            2           1           5000.0               1                1  \n",
       "1            3           3          12000.0               1                1  \n",
       "2            4           0           9000.0               2                1  \n",
       "3            4           0           9000.0               2                1  \n",
       "4            1           1          25000.0               1                1  "
      ]
     },
     "execution_count": 2,
     "metadata": {},
     "output_type": "execute_result"
    }
   ],
   "source": [
    "df = pd.read_csv('../data/D_ready.csv', sep=',')\n",
    "df.head()"
   ]
  },
  {
   "cell_type": "markdown",
   "id": "cc8ceed7-54e8-4deb-a304-e49235ed1819",
   "metadata": {},
   "source": [
    "## Гистограмма таргета "
   ]
  },
  {
   "cell_type": "code",
   "execution_count": 22,
   "id": "ddafdcc3-cd57-4048-b146-df69a5332959",
   "metadata": {},
   "outputs": [
    {
     "name": "stdout",
     "output_type": "stream",
     "text": [
      "11.29\n"
     ]
    },
    {
     "data": {
      "image/png": "[encoded data removed]",
      "text/plain": [
       "<Figure size 640x480 with 1 Axes>"
      ]
     },
     "metadata": {},
     "output_type": "display_data"
    }
   ],
   "source": [
    "# df[['TARGET']].hist('TARGET', title='Отклик')\n",
    "\n",
    "df[['TARGET']].plot(kind='hist', bins=2, title='Отклик')\n",
    "\n",
    "print(round(len(df[df['TARGET'] == 1]) / (len(df) / 100), 2))  "
   ]
  },
  {
   "cell_type": "code",
   "execution_count": 35,
   "id": "f1f8bbc4-1db3-4f47-a570-25c3438e5aa7",
   "metadata": {},
   "outputs": [
    {
     "data": {
      "text/plain": [
       "<Axes: title={'center': 'Возраст'}, ylabel='Frequency'>"
      ]
     },
     "execution_count": 35,
     "metadata": {},
     "output_type": "execute_result"
    },
    {
     "data": {
      "image/png": "[encoded data removed]",
      "text/plain": [
       "<Figure size 640x480 with 1 Axes>"
      ]
     },
     "metadata": {},
     "output_type": "display_data"
    }
   ],
   "source": [
    "df[['AGE']].plot(kind='hist', title='Возраст')"
   ]
  }
 ],
 "metadata": {
  "kernelspec": {
   "display_name": "Python 3 (ipykernel)",
   "language": "python",
   "name": "python3"
  },
  "language_info": {
   "codemirror_mode": {
    "name": "ipython",
    "version": 3
   },
   "file_extension": ".py",
   "mimetype": "text/x-python",
   "name": "python",
   "nbconvert_exporter": "python",
   "pygments_lexer": "ipython3",
   "version": "3.10.12"
  }
 },
 "nbformat": 4,
 "nbformat_minor": 5
}
